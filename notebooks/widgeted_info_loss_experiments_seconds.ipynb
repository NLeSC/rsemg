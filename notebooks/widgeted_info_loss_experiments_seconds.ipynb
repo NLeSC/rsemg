{
 "cells": [
  {
   "cell_type": "markdown",
   "metadata": {},
   "source": [
    "# Warning\n",
    "This notebook is under development- please see information_loss_experiments_correct for a working version"
   ]
  },
  {
   "cell_type": "markdown",
   "metadata": {},
   "source": [
    "# Experiments on information loss "
   ]
  },
  {
   "cell_type": "markdown",
   "metadata": {},
   "source": [
    "## Import libraries"
   ]
  },
  {
   "cell_type": "code",
   "execution_count": 1,
   "metadata": {},
   "outputs": [
    {
     "name": "stderr",
     "output_type": "stream",
     "text": [
      "C:\\Users\\makeda\\anaconda3\\envs\\remgenv-1\\lib\\site-packages\\mne\\fixes.py:321: DeprecationWarning: distutils Version classes are deprecated. Use packaging.version instead.\n",
      "  if LooseVersion(scipy.__version__) >= '1.1':\n",
      "C:\\Users\\makeda\\anaconda3\\envs\\remgenv-1\\lib\\site-packages\\mne\\fixes.py:1134: DeprecationWarning: distutils Version classes are deprecated. Use packaging.version instead.\n",
      "  if LooseVersion(numba.__version__) < LooseVersion('0.40'):\n",
      "C:\\Users\\makeda\\anaconda3\\envs\\remgenv-1\\lib\\site-packages\\mne\\fixes.py:1134: DeprecationWarning: distutils Version classes are deprecated. Use packaging.version instead.\n",
      "  if LooseVersion(numba.__version__) < LooseVersion('0.40'):\n"
     ]
    }
   ],
   "source": [
    "%matplotlib widget\n",
    "import ipywidgets as widgets\n",
    "import matplotlib.pyplot as plt\n",
    "import numpy as np\n",
    "import sys\n",
    "import os\n",
    "import glob\n",
    "import numpy as np\n",
    "import pandas as pd\n",
    "import matplotlib.pyplot as plt\n",
    "# IMPORT Ole's fixed TMSiSDK python interfacwe- may change\n",
    "sys.path.insert(0,'C:/Projects/tmsi-python-interface')\n",
    "from TMSiSDK.file_readers import Poly5Reader\n",
    "import collections\n",
    "import math\n",
    "sys.path.insert(0, '../rsemg')\n",
    "from rsemg import helper_functions as hf"
   ]
  },
  {
   "cell_type": "markdown",
   "metadata": {},
   "source": [
    "# Set a collection place for experiments"
   ]
  },
  {
   "cell_type": "code",
   "execution_count": 2,
   "metadata": {},
   "outputs": [],
   "source": [
    "# do not rerun this cell\n",
    "big_data_list= []"
   ]
  },
  {
   "cell_type": "markdown",
   "metadata": {},
   "source": [
    "Below change the path to the root directory where you are keeping your EMGs and ventilator \"Draeger\" files"
   ]
  },
  {
   "cell_type": "markdown",
   "metadata": {},
   "source": [
    "# Reruns should be done from this cell as the start"
   ]
  },
  {
   "cell_type": "code",
   "execution_count": 3,
   "metadata": {},
   "outputs": [],
   "source": [
    "root_emg_directory = os.path.join('../not_pushed','topspin_data_anonymized')"
   ]
  },
  {
   "cell_type": "code",
   "execution_count": 4,
   "metadata": {},
   "outputs": [],
   "source": [
    "emg_pattern = os.path.join(root_emg_directory, '**/*.Poly5')\n",
    "emg_and_draeger_files = glob.glob(emg_pattern, recursive=True)\n",
    "\n",
    "emg_files = []\n",
    "draeger_files = []\n",
    "\n",
    "for file in emg_and_draeger_files:\n",
    "    if 'Draeger' in file:\n",
    "        draeger_files.append(file)\n",
    "    else:\n",
    "        emg_files.append(file)"
   ]
  },
  {
   "cell_type": "markdown",
   "metadata": {},
   "source": [
    "Now you can pick a file from the list, which have been numbered."
   ]
  },
  {
   "cell_type": "code",
   "execution_count": 6,
   "metadata": {},
   "outputs": [
    {
     "data": {
      "application/vnd.jupyter.widget-view+json": {
       "model_id": "88068e4bd4d2412ba775631ba5eb9f5a",
       "version_major": 2,
       "version_minor": 0
      },
      "text/plain": [
       "Dropdown(description='Picked File:', options=('0', '1', '2', '3', '4', '5', '6', '7', '8', '9', '10', '11', '1…"
      ]
     },
     "metadata": {},
     "output_type": "display_data"
    }
   ],
   "source": [
    "list_of_numbers_strung = []\n",
    "for i in range(len(emg_files)):\n",
    "    list_of_numbers_strung.append(str(i))\n",
    "\n",
    "\n",
    "btn = widgets.Dropdown(\n",
    "    options=list_of_numbers_strung,\n",
    "    value='0',\n",
    "    description='Picked File:',\n",
    "    disabled=False,\n",
    ")\n",
    "display(btn)"
   ]
  },
  {
   "cell_type": "code",
   "execution_count": 18,
   "metadata": {},
   "outputs": [
    {
     "name": "stdout",
     "output_type": "stream",
     "text": [
      "The file you chose is: ../not_pushed\\topspin_data_anonymized\\M001\\006\\EMG_recording.Poly5\n"
     ]
    }
   ],
   "source": [
    "number_chosen = int(btn.value)\n",
    "file_chosen = emg_files[number_chosen] \n",
    "print(\"The file you chose is:\",file_chosen)"
   ]
  },
  {
   "cell_type": "code",
   "execution_count": 19,
   "metadata": {},
   "outputs": [
    {
     "name": "stdout",
     "output_type": "stream",
     "text": [
      "Reading file  ../not_pushed\\topspin_data_anonymized\\M001\\006\\EMG_recording.Poly5\n",
      "\t Number of samples:  762496 \n",
      "\t Number of channels:  3 \n",
      "\t Sample rate: 2048 Hz\n",
      "\r",
      "Progress:  0.0 %\r",
      "\r",
      "Progress:  0.4 %\r",
      "\r",
      "Progress:  0.7 %\r",
      "\r",
      "Progress:  1.1 %\r",
      "\r",
      "Progress:  1.4 %\r",
      "\r",
      "Progress:  1.8 %\r",
      "\r",
      "Progress:  2.1 %\r",
      "\r",
      "Progress:  2.5 %\r",
      "\r",
      "Progress:  2.9 %\r",
      "\r",
      "Progress:  3.2 %\r",
      "\r",
      "Progress:  3.6 %\r",
      "\r",
      "Progress:  3.9 %\r",
      "\r",
      "Progress:  4.3 %\r",
      "\r",
      "Progress:  4.6 %\r",
      "\r",
      "Progress:  5.0 %\r",
      "\r",
      "Progress:  5.4 %\r",
      "\r",
      "Progress:  5.7 %\r",
      "\r",
      "Progress:  6.1 %\r",
      "\r",
      "Progress:  6.4 %\r",
      "\r",
      "Progress:  6.8 %\r",
      "\r",
      "Progress:  7.1 %\r",
      "\r",
      "Progress:  7.5 %\r",
      "\r",
      "Progress:  7.9 %\r",
      "\r",
      "Progress:  8.2 %\r",
      "\r",
      "Progress:  8.6 %\r",
      "\r",
      "Progress:  8.9 %\r",
      "\r",
      "Progress:  9.3 %\r",
      "\r",
      "Progress:  9.6 %\r",
      "\r",
      "Progress:  10.0 %\r",
      "\r",
      "Progress:  10.4 %\r",
      "\r",
      "Progress:  10.7 %\r",
      "\r",
      "Progress:  11.1 %\r",
      "\r",
      "Progress:  11.4 %\r",
      "\r",
      "Progress:  11.8 %\r",
      "\r",
      "Progress:  12.1 %\r",
      "\r",
      "Progress:  12.5 %\r",
      "\r",
      "Progress:  12.9 %\r",
      "\r",
      "Progress:  13.2 %\r",
      "\r",
      "Progress:  13.6 %\r",
      "\r",
      "Progress:  13.9 %\r",
      "\r",
      "Progress:  14.3 %\r",
      "\r",
      "Progress:  14.6 %\r",
      "\r",
      "Progress:  15.0 %\r",
      "\r",
      "Progress:  15.4 %\r",
      "\r",
      "Progress:  15.7 %\r",
      "\r",
      "Progress:  16.1 %\r",
      "\r",
      "Progress:  16.4 %\r",
      "\r",
      "Progress:  16.8 %\r",
      "\r",
      "Progress:  17.1 %\r",
      "\r",
      "Progress:  17.5 %\r",
      "\r",
      "Progress:  17.9 %\r",
      "\r",
      "Progress:  18.2 %\r",
      "\r",
      "Progress:  18.6 %\r",
      "\r",
      "Progress:  18.9 %\r",
      "\r",
      "Progress:  19.3 %\r",
      "\r",
      "Progress:  19.6 %\r",
      "\r",
      "Progress:  20.0 %\r",
      "\r",
      "Progress:  20.4 %\r",
      "\r",
      "Progress:  20.7 %\r",
      "\r",
      "Progress:  21.1 %\r",
      "\r",
      "Progress:  21.4 %\r",
      "\r",
      "Progress:  21.8 %\r",
      "\r",
      "Progress:  22.1 %\r",
      "\r",
      "Progress:  22.5 %\r",
      "\r",
      "Progress:  22.9 %\r",
      "\r",
      "Progress:  23.2 %\r",
      "\r",
      "Progress:  23.6 %\r",
      "\r",
      "Progress:  23.9 %\r",
      "\r",
      "Progress:  24.3 %\r",
      "\r",
      "Progress:  24.6 %\r",
      "\r",
      "Progress:  25.0 %\r",
      "\r",
      "Progress:  25.4 %\r",
      "\r",
      "Progress:  25.7 %\r",
      "\r",
      "Progress:  26.1 %\r",
      "\r",
      "Progress:  26.4 %\r",
      "\r",
      "Progress:  26.8 %\r",
      "\r",
      "Progress:  27.1 %\r",
      "\r",
      "Progress:  27.5 %\r",
      "\r",
      "Progress:  27.9 %\r",
      "\r",
      "Progress:  28.2 %\r",
      "\r",
      "Progress:  28.6 %\r",
      "\r",
      "Progress:  28.9 %\r",
      "\r",
      "Progress:  29.3 %\r",
      "\r",
      "Progress:  29.6 %\r",
      "\r",
      "Progress:  30.0 %\r",
      "\r",
      "Progress:  30.4 %\r",
      "\r",
      "Progress:  30.7 %\r",
      "\r",
      "Progress:  31.1 %\r",
      "\r",
      "Progress:  31.4 %\r",
      "\r",
      "Progress:  31.8 %\r",
      "\r",
      "Progress:  32.1 %\r",
      "\r",
      "Progress:  32.5 %\r",
      "\r",
      "Progress:  32.9 %\r",
      "\r",
      "Progress:  33.2 %\r",
      "\r",
      "Progress:  33.6 %\r",
      "\r",
      "Progress:  33.9 %\r",
      "\r",
      "Progress:  34.3 %\r",
      "\r",
      "Progress:  34.6 %\r",
      "\r",
      "Progress:  35.0 %\r",
      "\r",
      "Progress:  35.4 %\r",
      "\r",
      "Progress:  35.7 %\r",
      "\r",
      "Progress:  36.1 %\r",
      "\r",
      "Progress:  36.4 %\r",
      "\r",
      "Progress:  36.8 %\r",
      "\r",
      "Progress:  37.1 %\r",
      "\r",
      "Progress:  37.5 %\r",
      "\r",
      "Progress:  37.9 %\r",
      "\r",
      "Progress:  38.2 %\r",
      "\r",
      "Progress:  38.6 %\r",
      "\r",
      "Progress:  38.9 %\r",
      "\r",
      "Progress:  39.3 %\r",
      "\r",
      "Progress:  39.6 %\r",
      "\r",
      "Progress:  40.0 %\r",
      "\r",
      "Progress:  40.4 %\r",
      "\r",
      "Progress:  40.7 %\r",
      "\r",
      "Progress:  41.1 %\r",
      "\r",
      "Progress:  41.4 %\r",
      "\r",
      "Progress:  41.8 %\r",
      "\r",
      "Progress:  42.1 %\r",
      "\r",
      "Progress:  42.5 %\r",
      "\r",
      "Progress:  42.9 %\r",
      "\r",
      "Progress:  43.2 %\r",
      "\r",
      "Progress:  43.6 %\r",
      "\r",
      "Progress:  43.9 %\r",
      "\r",
      "Progress:  44.3 %\r",
      "\r",
      "Progress:  44.6 %\r",
      "\r",
      "Progress:  45.0 %\r",
      "\r",
      "Progress:  45.4 %\r",
      "\r",
      "Progress:  45.7 %\r",
      "\r",
      "Progress:  46.1 %\r",
      "\r",
      "Progress:  46.4 %\r",
      "\r",
      "Progress:  46.8 %\r",
      "\r",
      "Progress:  47.1 %\r",
      "\r",
      "Progress:  47.5 %\r",
      "\r",
      "Progress:  47.9 %\r",
      "\r",
      "Progress:  48.2 %\r",
      "\r",
      "Progress:  48.6 %\r",
      "\r",
      "Progress:  48.9 %\r",
      "\r",
      "Progress:  49.3 %\r",
      "\r",
      "Progress:  49.6 %\r",
      "\r",
      "Progress:  50.0 %\r",
      "\r",
      "Progress:  50.4 %\r",
      "\r",
      "Progress:  50.7 %\r",
      "\r",
      "Progress:  51.1 %\r",
      "\r",
      "Progress:  51.4 %\r",
      "\r",
      "Progress:  51.8 %\r",
      "\r",
      "Progress:  52.1 %\r",
      "\r",
      "Progress:  52.5 %\r",
      "\r",
      "Progress:  52.9 %\r",
      "\r",
      "Progress:  53.2 %\r",
      "\r",
      "Progress:  53.6 %\r",
      "\r",
      "Progress:  53.9 %\r",
      "\r",
      "Progress:  54.3 %\r",
      "\r",
      "Progress:  54.6 %\r",
      "\r",
      "Progress:  55.0 %\r",
      "\r",
      "Progress:  55.4 %\r",
      "\r",
      "Progress:  55.7 %\r",
      "\r",
      "Progress:  56.1 %\r",
      "\r",
      "Progress:  56.4 %\r",
      "\r",
      "Progress:  56.8 %\r",
      "\r",
      "Progress:  57.1 %\r",
      "\r",
      "Progress:  57.5 %\r",
      "\r",
      "Progress:  57.9 %\r",
      "\r",
      "Progress:  58.2 %\r",
      "\r",
      "Progress:  58.6 %\r",
      "\r",
      "Progress:  58.9 %\r",
      "\r",
      "Progress:  59.3 %\r",
      "\r",
      "Progress:  59.6 %\r",
      "\r",
      "Progress:  60.0 %\r",
      "\r",
      "Progress:  60.4 %\r",
      "\r",
      "Progress:  60.7 %\r",
      "\r",
      "Progress:  61.1 %\r",
      "\r",
      "Progress:  61.4 %\r",
      "\r",
      "Progress:  61.8 %\r",
      "\r",
      "Progress:  62.1 %\r",
      "\r",
      "Progress:  62.5 %\r",
      "\r",
      "Progress:  62.9 %\r",
      "\r",
      "Progress:  63.2 %\r",
      "\r",
      "Progress:  63.6 %\r",
      "\r",
      "Progress:  63.9 %\r",
      "\r",
      "Progress:  64.3 %\r",
      "\r",
      "Progress:  64.6 %\r",
      "\r",
      "Progress:  65.0 %\r",
      "\r",
      "Progress:  65.4 %\r",
      "\r",
      "Progress:  65.7 %\r",
      "\r",
      "Progress:  66.1 %\r",
      "\r",
      "Progress:  66.4 %\r",
      "\r",
      "Progress:  66.8 %\r",
      "\r",
      "Progress:  67.1 %\r",
      "\r",
      "Progress:  67.5 %\r",
      "\r",
      "Progress:  67.9 %\r",
      "\r",
      "Progress:  68.2 %\r",
      "\r",
      "Progress:  68.6 %\r",
      "\r",
      "Progress:  68.9 %\r",
      "\r",
      "Progress:  69.3 %\r",
      "\r",
      "Progress:  69.6 %\r",
      "\r",
      "Progress:  70.0 %\r",
      "\r",
      "Progress:  70.4 %\r",
      "\r",
      "Progress:  70.7 %\r",
      "\r",
      "Progress:  71.1 %\r",
      "\r",
      "Progress:  71.4 %\r",
      "\r",
      "Progress:  71.8 %\r",
      "\r",
      "Progress:  72.1 %\r",
      "\r",
      "Progress:  72.5 %\r",
      "\r",
      "Progress:  72.9 %\r",
      "\r",
      "Progress:  73.2 %\r",
      "\r",
      "Progress:  73.6 %\r",
      "\r",
      "Progress:  73.9 %\r",
      "\r",
      "Progress:  74.3 %\r",
      "\r",
      "Progress:  74.6 %\r",
      "\r",
      "Progress:  75.0 %\r",
      "\r",
      "Progress:  75.4 %\r",
      "\r",
      "Progress:  75.7 %\r",
      "\r",
      "Progress:  76.1 %\r",
      "\r",
      "Progress:  76.4 %\r",
      "\r",
      "Progress:  76.8 %\r",
      "\r",
      "Progress:  77.1 %\r",
      "\r",
      "Progress:  77.5 %\r",
      "\r",
      "Progress:  77.9 %\r",
      "\r",
      "Progress:  78.2 %\r",
      "\r",
      "Progress:  78.6 %\r",
      "\r",
      "Progress:  78.9 %\r",
      "\r",
      "Progress:  79.3 %\r",
      "\r",
      "Progress:  79.6 %\r",
      "\r",
      "Progress:  80.0 %\r",
      "\r",
      "Progress:  80.4 %\r",
      "\r",
      "Progress:  80.7 %\r",
      "\r",
      "Progress:  81.1 %\r",
      "\r",
      "Progress:  81.4 %\r",
      "\r",
      "Progress:  81.8 %\r",
      "\r",
      "Progress:  82.1 %\r",
      "\r",
      "Progress:  82.5 %\r",
      "\r",
      "Progress:  82.9 %\r",
      "\r",
      "Progress:  83.2 %\r",
      "\r",
      "Progress:  83.6 %\r",
      "\r",
      "Progress:  83.9 %\r",
      "\r",
      "Progress:  84.3 %\r",
      "\r",
      "Progress:  84.6 %\r",
      "\r",
      "Progress:  85.0 %\r",
      "\r",
      "Progress:  85.4 %\r",
      "\r",
      "Progress:  85.7 %\r",
      "\r",
      "Progress:  86.1 %\r",
      "\r",
      "Progress:  86.4 %\r",
      "\r",
      "Progress:  86.8 %\r",
      "\r",
      "Progress:  87.1 %\r",
      "\r",
      "Progress:  87.5 %\r",
      "\r",
      "Progress:  87.9 %\r",
      "\r",
      "Progress:  88.2 %\r",
      "\r",
      "Progress:  88.6 %\r",
      "\r",
      "Progress:  88.9 %\r",
      "\r",
      "Progress:  89.3 %\r",
      "\r",
      "Progress:  89.6 %\r",
      "\r",
      "Progress:  90.0 %\r",
      "\r",
      "Progress:  90.4 %\r",
      "\r",
      "Progress:  90.7 %\r",
      "\r",
      "Progress:  91.1 %\r",
      "\r",
      "Progress:  91.4 %\r",
      "\r",
      "Progress:  91.8 %\r",
      "\r",
      "Progress:  92.1 %\r",
      "\r",
      "Progress:  92.5 %\r",
      "\r",
      "Progress:  92.9 %\r",
      "\r",
      "Progress:  93.2 %\r",
      "\r",
      "Progress:  93.6 %\r",
      "\r",
      "Progress:  93.9 %\r",
      "\r",
      "Progress:  94.3 %\r",
      "\r",
      "Progress:  94.6 %\r",
      "\r",
      "Progress:  95.0 %\r",
      "\r",
      "Progress:  95.4 %\r",
      "\r",
      "Progress:  95.7 %\r",
      "\r",
      "Progress:  96.1 %\r",
      "\r",
      "Progress:  96.4 %\r",
      "\r",
      "Progress:  96.8 %\r",
      "\r",
      "Progress:  97.1 %\r",
      "\r",
      "Progress:  97.5 %\r",
      "\r",
      "Progress:  97.9 %\r",
      "\r",
      "Progress:  98.2 %\r",
      "\r",
      "Progress:  98.6 %\r",
      "\r",
      "Progress:  98.9 %\r",
      "\r",
      "Progress:  99.3 %\r",
      "\r",
      "Progress:  99.6 %\r",
      "Done reading data.\n"
     ]
    }
   ],
   "source": [
    "data_emg = Poly5Reader(file_chosen)\n",
    "data_samples= data_emg.samples\n",
    "emg_sample_rate = data_emg.sample_rate\n",
    "converted_to_seconds =  []\n",
    "for i in range(len(data_samples[0])):\n",
    "    converted_to_seconds.append(i/emg_sample_rate)"
   ]
  },
  {
   "cell_type": "code",
   "execution_count": 20,
   "metadata": {},
   "outputs": [
    {
     "data": {
      "text/plain": [
       "[<matplotlib.lines.Line2D at 0x2598637bee0>]"
      ]
     },
     "execution_count": 20,
     "metadata": {},
     "output_type": "execute_result"
    },
    {
     "data": {
      "image/png": "[encoded data removed]",
      "text/plain": [
       "<Figure size 432x432 with 6 Axes>"
      ]
     },
     "metadata": {
      "needs_background": "light"
     },
     "output_type": "display_data"
    }
   ],
   "source": [
    "# get the poly5 reading\n",
    "#data_emg = Poly5Reader(file_chosen)\n",
    "#data_samples= data_emg.samples\n",
    "%matplotlib inline\n",
    "# set up plotn\n",
    "x = data_samples\n",
    "fig, axis = plt.subplots(nrows = 3, ncols = 2, figsize=(6, 6))\n",
    "#ax.set_ylim([-4, 4])\n",
    "axis[0,0].grid(True)\n",
    "axis[0,0].plot(x[0])\n",
    "axis[0,0].set(title='leads in samples')\n",
    "axis[1,0].plot(x[1])\n",
    "axis[2,0].plot(x[2])\n",
    "axis[0,1].set(title='leads in seconds')\n",
    "axis[0,1].grid(True)\n",
    "axis[0,1].plot(converted_to_seconds,x[0])\n",
    "axis[1,1].plot(converted_to_seconds,x[1])\n",
    "axis[2,1].plot(converted_to_seconds,x[2])"
   ]
  },
  {
   "cell_type": "markdown",
   "metadata": {},
   "source": [
    "That is the whole unfiltered EMG, but you probably want to examine a part. You will also want to examine something filtered down to only the EMG components. Therefore we will filter off only the EMG components with an ICA in addtion to the filter we will play with."
   ]
  },
  {
   "cell_type": "markdown",
   "metadata": {},
   "source": [
    "Now you can filter down to which part you want to see. "
   ]
  },
  {
   "cell_type": "markdown",
   "metadata": {},
   "source": [
    "Do you want to cut and see the file in samples or seconds?"
   ]
  },
  {
   "cell_type": "code",
   "execution_count": 32,
   "metadata": {},
   "outputs": [
    {
     "data": {
      "application/vnd.jupyter.widget-view+json": {
       "model_id": "d1d340a3f7ca4f6d92fac7af61cbaaf0",
       "version_major": 2,
       "version_minor": 0
      },
      "text/plain": [
       "Dropdown(description='Select View Option', options=('Samples', 'Seconds'), value='Samples')"
      ]
     },
     "metadata": {},
     "output_type": "display_data"
    }
   ],
   "source": [
    "y_axis = widgets.Dropdown(\n",
    "    options=[\"Samples\",\"Seconds\"],\n",
    "    value='Samples',\n",
    "    description=\"Select View Option\",\n",
    "    disabled=False,\n",
    ")\n",
    "display(y_axis)\n"
   ]
  },
  {
   "cell_type": "code",
   "execution_count": 34,
   "metadata": {},
   "outputs": [
    {
     "data": {
      "text/plain": [
       "'Seconds'"
      ]
     },
     "execution_count": 34,
     "metadata": {},
     "output_type": "execute_result"
    }
   ],
   "source": [
    "time_view= y_axis.value\n",
    "time_view"
   ]
  },
  {
   "cell_type": "code",
   "execution_count": 36,
   "metadata": {},
   "outputs": [
    {
     "name": "stdout",
     "output_type": "stream",
     "text": [
      "330\n"
     ]
    }
   ],
   "source": [
    "# type in start number and press return for it to update\n",
    "start = input()"
   ]
  },
  {
   "cell_type": "code",
   "execution_count": 37,
   "metadata": {},
   "outputs": [
    {
     "name": "stdout",
     "output_type": "stream",
     "text": [
      "350\n"
     ]
    }
   ],
   "source": [
    "# type in end number and press return for it to update\n",
    "end= input()"
   ]
  },
  {
   "cell_type": "code",
   "execution_count": 30,
   "metadata": {},
   "outputs": [],
   "source": [
    "start_s = float(start)* emg_sample_rate\n",
    "end_s = float(end)*emg_sample_rate"
   ]
  },
  {
   "cell_type": "code",
   "execution_count": 38,
   "metadata": {},
   "outputs": [
    {
     "data": {
      "image/png": "[encoded data removed]",
      "text/plain": [
       "<Figure size 432x288 with 3 Axes>"
      ]
     },
     "metadata": {
      "needs_background": "light"
     },
     "output_type": "display_data"
    }
   ],
   "source": [
    "if time_view == 'Samples':\n",
    "    # nox examine at a certain scale- from point a to b as samples\n",
    "    x = data_samples\n",
    "    fig, (ax_1,ax_2,ax_3) = plt.subplots(nrows = 3, figsize=(6, 4))\n",
    "    ax_1.grid(True)\n",
    "    ax_1.plot(x[0][int(start):int(end)])\n",
    "    ax_1.set(title='leads, samples')\n",
    "    ax_2.plot(x[1][int(start):int(end)])\n",
    "    ax_3.plot(x[2][int(start):int(end)])\n",
    "    \n",
    "if time_view == 'Seconds':\n",
    "    # nox examine at a certain scale- from point a to b as samples\n",
    "    x_for_secs = data_samples\n",
    "    \n",
    "    converter_for_sample_number =90\n",
    "    \n",
    "    y = converted_to_seconds\n",
    "    fig, (ax_1,ax_2,ax_3) = plt.subplots(nrows = 3, figsize=(6, 4))\n",
    "    ax_1.grid(True)\n",
    "    ax_1.plot(y[int(start_s):int(end_s)],x[0][int(start_s):int(end_s)])\n",
    "    ax_1.set(title='leads, seconds')\n",
    "    ax_2.plot(y[int(start_s):int(end_s)],x[1][int(start_s):int(end_s)])\n",
    "    ax_3.plot(y[int(start_s):int(end_s)],x[2][int(start_s):int(end_s)])\n",
    "    \n",
    "\n",
    "    "
   ]
  },
  {
   "cell_type": "markdown",
   "metadata": {},
   "source": [
    "Happy with your selection? If not redo, then we can see how the filter works on it."
   ]
  },
  {
   "cell_type": "code",
   "execution_count": 36,
   "metadata": {},
   "outputs": [],
   "source": [
    "%matplotlib inline\n",
    "# generate x values\n",
    "x = data_samples#[int(start):int(end)]\n",
    "\n",
    "\n",
    "def my_butter_filter(x, low, high, freq):\n",
    "    \n",
    "    \"\"\"\n",
    "    Return band-pass butter filtered\n",
    "    \"\"\"\n",
    "    x = hf.emg_bandpass_butter_sample(x, low, high, 2048, output='sos')\n",
    "    components = hf.compute_ICA_two_comp(x)\n",
    "    x= hf.pick_more_peaks_array(components)\n",
    "      \n",
    "    return x\n"
   ]
  },
  {
   "cell_type": "code",
   "execution_count": 37,
   "metadata": {},
   "outputs": [
    {
     "data": {
      "application/vnd.jupyter.widget-view+json": {
       "model_id": "f0085f7fe8f143f2838e4c0e0c2b2169",
       "version_major": 2,
       "version_minor": 0
      },
      "text/plain": [
       "interactive(children=(IntSlider(value=1, description='low end cutoff', max=15, min=1), IntSlider(value=500, de…"
      ]
     },
     "metadata": {},
     "output_type": "display_data"
    }
   ],
   "source": [
    "if time_view == 'Samples':\n",
    "        #\n",
    "    int_slider1 = widgets.IntSlider(\n",
    "        min=1, max=15, step=1, \n",
    "        description='low end cutoff'\n",
    "    )\n",
    "    int_slider2 = widgets.IntSlider(\n",
    "        value=500, \n",
    "        min=1, max=1000, step=1, \n",
    "        description='high end cutoff'\n",
    "    )\n",
    "    widgets.VBox(\n",
    "        [\n",
    "\n",
    "            int_slider1, \n",
    "            int_slider2, \n",
    "\n",
    "        ]\n",
    "    )\n",
    "\n",
    "\n",
    "    @widgets.interact(low=int_slider1, high=int_slider2)\n",
    "    def update(low =  int_slider1, high=int_slider2):\n",
    "        with plt.style.context(\"ggplot\"):\n",
    "            fig, ax = plt.subplots(figsize=(6, 4))\n",
    "            ax.grid(True)\n",
    "            [l.remove() for l in ax.lines]\n",
    "            ax.plot(my_butter_filter(x[:,int(start):int(end)], low, high,2048), color='C0')\n",
    "            \n",
    "else:\n",
    "    int_slider1 = widgets.IntSlider(\n",
    "        min=1, max=15, step=1, \n",
    "        description='low end cutoff'\n",
    "    )\n",
    "    int_slider2 = widgets.IntSlider(\n",
    "        value=500, \n",
    "        min=1, max=1000, step=1, \n",
    "        description='high end cutoff'\n",
    "    )\n",
    "    widgets.VBox(\n",
    "        [\n",
    "\n",
    "            int_slider1, \n",
    "            int_slider2, \n",
    "\n",
    "        ]\n",
    "    )\n",
    "\n",
    "\n",
    "    @widgets.interact(low=int_slider1, high=int_slider2)\n",
    "    def update(low =  int_slider1, high=int_slider2):\n",
    "        with plt.style.context(\"ggplot\"):\n",
    "            fig, ax = plt.subplots(figsize=(6, 4))\n",
    "            ax.grid(True)\n",
    "            [l.remove() for l in ax.lines]\n",
    "            ax.plot(y[int(start_s):int(end_s)],my_butter_filter(x[:,int(start_s):int(end_s)], low, high,2048), color='C0')"
   ]
  },
  {
   "cell_type": "markdown",
   "metadata": {},
   "source": [
    "Once you are happy leave it. The values are then stored once you run the cellbelow:"
   ]
  },
  {
   "cell_type": "code",
   "execution_count": 38,
   "metadata": {},
   "outputs": [],
   "source": [
    "high_end_cut =int_slider2.value\n",
    "low_end_cut =int_slider1.value\n"
   ]
  },
  {
   "cell_type": "markdown",
   "metadata": {},
   "source": [
    "# Visual examination\n",
    "We can look at the product with \n"
   ]
  },
  {
   "cell_type": "code",
   "execution_count": 39,
   "metadata": {},
   "outputs": [],
   "source": [
    "lead_2 = data_samples[2]\n",
    "components = hf.compute_ICA_two_comp(x)    \n",
    "x_singled_emg= hf.pick_more_peaks_array(components)\n",
    "#x_singled_emg= components[1]"
   ]
  },
  {
   "cell_type": "code",
   "execution_count": 40,
   "metadata": {},
   "outputs": [
    {
     "data": {
      "image/png": "[encoded data removed]",
      "text/plain": [
       "<Figure size 432x432 with 3 Axes>"
      ]
     },
     "metadata": {
      "needs_background": "light"
     },
     "output_type": "display_data"
    }
   ],
   "source": [
    "\n",
    "newly_filtered = my_butter_filter(x, low_end_cut, high_end_cut,2048)\n",
    "if time_view == 'Samples':\n",
    "    fig, (ax_1,ax_2,ax_3) = plt.subplots(nrows = 3, figsize=(6, 6))\n",
    "    ax_1.plot(lead_2[int(start):int(end)])\n",
    "    ax_1.set(title='original lead 2')\n",
    "    ax_1.grid(True)\n",
    "    ax_2.plot(x_singled_emg[int(start):int(end)])\n",
    "    ax_2.set(title='original_emg')\n",
    "    ax_3.plot(newly_filtered[int(start):int(end)])\n",
    "    ax_3.set(title='filtered')\n",
    "    \n",
    "else:\n",
    "    fig, (ax_1,ax_2,ax_3) = plt.subplots(nrows = 3, figsize=(6, 6))\n",
    "    ax_1.plot(y[int(start_s):int(end_s)],lead_2[int(start_s):int(end_s)])\n",
    "    ax_1.set(title='original lead 2')\n",
    "    ax_1.grid(True)\n",
    "    ax_2.plot(y[int(start_s):int(end_s)],x_singled_emg[int(start_s):int(end_s)])\n",
    "    ax_2.set(title='original_emg')\n",
    "    ax_3.plot(y[int(start_s):int(end_s)],newly_filtered[int(start_s):int(end_s)])\n",
    "    ax_3.set(title='filtered')\n",
    "   "
   ]
  },
  {
   "cell_type": "markdown",
   "metadata": {},
   "source": [
    "Looks like an improvement, but how much information did we lose?"
   ]
  },
  {
   "cell_type": "markdown",
   "metadata": {},
   "source": [
    "# Looking at information loss"
   ]
  },
  {
   "cell_type": "markdown",
   "metadata": {},
   "source": [
    "Here we will use power spectrum loss to understand information loss. If we get a tiny small negative number (less than 1/100) we will understand it as essentially zero (or somehow plus a very small noise?)"
   ]
  },
  {
   "cell_type": "markdown",
   "metadata": {},
   "source": [
    "## Loss from lead_2 to ICA product"
   ]
  },
  {
   "cell_type": "code",
   "execution_count": 41,
   "metadata": {},
   "outputs": [
    {
     "data": {
      "text/plain": [
       "0.11894095995033105"
      ]
     },
     "execution_count": 41,
     "metadata": {},
     "output_type": "execute_result"
    }
   ],
   "source": [
    "\n",
    "if time_view == 'Samples':\n",
    "    split_loss = hf.compute_power_loss(lead_2[int(start):int(end)], 2048, x_singled_emg[int(start):int(end)], 2048)\n",
    "else:\n",
    "    split_loss = hf.compute_power_loss(lead_2[int(start_s):int(end_s)], 2048, x_singled_emg[int(start_s):int(end_s)], 2048)\n",
    "split_loss"
   ]
  },
  {
   "cell_type": "markdown",
   "metadata": {},
   "source": [
    "## Loss from lead_2 to final filtering product"
   ]
  },
  {
   "cell_type": "code",
   "execution_count": 42,
   "metadata": {},
   "outputs": [
    {
     "data": {
      "text/plain": [
       "0.11894095977279528"
      ]
     },
     "execution_count": 42,
     "metadata": {},
     "output_type": "execute_result"
    }
   ],
   "source": [
    "\n",
    "if time_view == 'Samples':\n",
    "    final_loss = hf.compute_power_loss(lead_2[int(start):int(end)], 2048, newly_filtered[int(start):int(end)], 2048)\n",
    "else:\n",
    "    final_loss = hf.compute_power_loss(lead_2[int(start_s):int(end_s)], 2048, newly_filtered[int(start_s):int(end_s)], 2048)\n",
    "final_loss"
   ]
  },
  {
   "cell_type": "markdown",
   "metadata": {},
   "source": [
    "I would argue when we lose we we lost more noise than important 'information', but now we have a framework to start comparing information loss"
   ]
  },
  {
   "cell_type": "markdown",
   "metadata": {},
   "source": [
    "Now let's save the information we just generated."
   ]
  },
  {
   "cell_type": "code",
   "execution_count": 43,
   "metadata": {},
   "outputs": [],
   "source": [
    "data_now = [file_chosen, number_chosen, start, end, high_end_cut, low_end_cut, split_loss, final_loss, time_view]"
   ]
  },
  {
   "cell_type": "code",
   "execution_count": 44,
   "metadata": {},
   "outputs": [
    {
     "data": {
      "text/plain": [
       "['../not_pushed\\\\topspin_data_anonymized\\\\M001\\\\007\\\\EMG_recording.Poly5',\n",
       " 6,\n",
       " '90',\n",
       " '9000',\n",
       " 204,\n",
       " 3,\n",
       " 0.11894095995033105,\n",
       " 0.11894095977279528,\n",
       " 'Samples']"
      ]
     },
     "execution_count": 44,
     "metadata": {},
     "output_type": "execute_result"
    }
   ],
   "source": [
    "data_now"
   ]
  },
  {
   "cell_type": "code",
   "execution_count": 45,
   "metadata": {},
   "outputs": [
    {
     "data": {
      "text/plain": [
       "[['../not_pushed\\\\topspin_data_anonymized\\\\M001\\\\007\\\\EMG_recording.Poly5',\n",
       "  6,\n",
       "  '90',\n",
       "  '9000',\n",
       "  204,\n",
       "  3,\n",
       "  0.11894095995033105,\n",
       "  0.11894095977279528,\n",
       "  'Samples']]"
      ]
     },
     "execution_count": 45,
     "metadata": {},
     "output_type": "execute_result"
    }
   ],
   "source": [
    "# run every time you want to append a new sample\n",
    "big_data_list.append(data_now)\n",
    "\n",
    "big_data_list"
   ]
  },
  {
   "cell_type": "code",
   "execution_count": 46,
   "metadata": {},
   "outputs": [],
   "source": [
    "columns_now = ['file_chosen', \n",
    "               'number_file', \n",
    "               'start_checked',\n",
    "               'end_checked', \n",
    "               'high_end_filter',\n",
    "               'low_end_filter', \n",
    "               'info_lost_split',\n",
    "               'info_lost_final',\n",
    "               'time_view'\n",
    "              ]\n",
    "\n",
    "df = pd.DataFrame(big_data_list, columns= columns_now)"
   ]
  },
  {
   "cell_type": "code",
   "execution_count": 47,
   "metadata": {},
   "outputs": [
    {
     "data": {
      "text/html": [
       "<div>\n",
       "<style scoped>\n",
       "    .dataframe tbody tr th:only-of-type {\n",
       "        vertical-align: middle;\n",
       "    }\n",
       "\n",
       "    .dataframe tbody tr th {\n",
       "        vertical-align: top;\n",
       "    }\n",
       "\n",
       "    .dataframe thead th {\n",
       "        text-align: right;\n",
       "    }\n",
       "</style>\n",
       "<table border=\"1\" class=\"dataframe\">\n",
       "  <thead>\n",
       "    <tr style=\"text-align: right;\">\n",
       "      <th></th>\n",
       "      <th>file_chosen</th>\n",
       "      <th>number_file</th>\n",
       "      <th>start_checked</th>\n",
       "      <th>end_checked</th>\n",
       "      <th>high_end_filter</th>\n",
       "      <th>low_end_filter</th>\n",
       "      <th>info_lost_split</th>\n",
       "      <th>info_lost_final</th>\n",
       "      <th>time_view</th>\n",
       "    </tr>\n",
       "  </thead>\n",
       "  <tbody>\n",
       "    <tr>\n",
       "      <th>0</th>\n",
       "      <td>../not_pushed\\topspin_data_anonymized\\M001\\007...</td>\n",
       "      <td>6</td>\n",
       "      <td>90</td>\n",
       "      <td>9000</td>\n",
       "      <td>204</td>\n",
       "      <td>3</td>\n",
       "      <td>0.118941</td>\n",
       "      <td>0.118941</td>\n",
       "      <td>Samples</td>\n",
       "    </tr>\n",
       "  </tbody>\n",
       "</table>\n",
       "</div>"
      ],
      "text/plain": [
       "                                         file_chosen  number_file  \\\n",
       "0  ../not_pushed\\topspin_data_anonymized\\M001\\007...            6   \n",
       "\n",
       "  start_checked end_checked  high_end_filter  low_end_filter  info_lost_split  \\\n",
       "0            90        9000              204               3         0.118941   \n",
       "\n",
       "   info_lost_final time_view  \n",
       "0         0.118941   Samples  "
      ]
     },
     "execution_count": 47,
     "metadata": {},
     "output_type": "execute_result"
    }
   ],
   "source": [
    "df"
   ]
  },
  {
   "cell_type": "code",
   "execution_count": 48,
   "metadata": {},
   "outputs": [],
   "source": [
    "df.to_csv('my_saved_experiments.csv')"
   ]
  },
  {
   "cell_type": "markdown",
   "metadata": {},
   "source": [
    "You probably want to change the name to a timestamp, and save every hour, at least. "
   ]
  }
 ],
 "metadata": {
  "kernelspec": {
   "display_name": "Python 3 (ipykernel)",
   "language": "python",
   "name": "python3"
  },
  "language_info": {
   "codemirror_mode": {
    "name": "ipython",
    "version": 3
   },
   "file_extension": ".py",
   "mimetype": "text/x-python",
   "name": "python",
   "nbconvert_exporter": "python",
   "pygments_lexer": "ipython3",
   "version": "3.8.6"
  }
 },
 "nbformat": 4,
 "nbformat_minor": 4
}
