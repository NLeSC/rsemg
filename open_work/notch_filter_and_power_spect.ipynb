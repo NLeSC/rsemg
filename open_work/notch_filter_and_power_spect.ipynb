{
 "cells": [
  {
   "cell_type": "code",
   "execution_count": 1,
   "id": "28223b01",
   "metadata": {},
   "outputs": [
    {
     "name": "stderr",
     "output_type": "stream",
     "text": [
      "C:\\Users\\makeda\\anaconda3\\envs\\remgenv-4\\lib\\site-packages\\mne\\fixes.py:321: DeprecationWarning: distutils Version classes are deprecated. Use packaging.version instead.\n",
      "  if LooseVersion(scipy.__version__) >= '1.1':\n",
      "C:\\Users\\makeda\\anaconda3\\envs\\remgenv-4\\lib\\site-packages\\mne\\fixes.py:1134: DeprecationWarning: distutils Version classes are deprecated. Use packaging.version instead.\n",
      "  if LooseVersion(numba.__version__) < LooseVersion('0.40'):\n",
      "C:\\Users\\makeda\\anaconda3\\envs\\remgenv-4\\lib\\site-packages\\mne\\fixes.py:1134: DeprecationWarning: distutils Version classes are deprecated. Use packaging.version instead.\n",
      "  if LooseVersion(numba.__version__) < LooseVersion('0.40'):\n"
     ]
    }
   ],
   "source": [
    "import math\n",
    "import collections\n",
    "\n",
    "from scipy import signal\n",
    "from scipy.fft import fft, fftfreq\n",
    "\n",
    "import pandas as pd\n",
    "import glob\n",
    "import os\n",
    "import sys\n",
    "import numpy as np\n",
    "import matplotlib.pyplot as plt\n",
    "import ipywidgets as widgets\n",
    "%matplotlib widget\n",
    "# IMPORT Ole's fixed TMSiSDK python interfacwe- may change\n",
    "sys.path.insert(0, 'C:/Projects/tmsi-python-interface')\n",
    "from TMSiSDK.file_readers import Poly5Reader\n",
    "sys.path.insert(0, '../rsemg')\n",
    "import helper_functions as hf"
   ]
  },
  {
   "cell_type": "code",
   "execution_count": 2,
   "id": "51b8a87d",
   "metadata": {},
   "outputs": [],
   "source": [
    "def notch_filter(sample, sample_frequ, freq_to_pull, quality_factor_q):\n",
    "    \"\"\"\n",
    "    This is a filter designed to take out a specific frequency. \n",
    "    In the EU in some data electrical cords can interfere at around 50 herts.\n",
    "    In some other locations the interference is at 60 Hertz. The specificities \n",
    "    of a local power grid may neccesitate notch filtering. \n",
    "\n",
    "    \n",
    "    \"\"\"\n",
    "    # create notch filter\n",
    "    samp_freq = sample_frequ # Sample frequency (Hz)\n",
    "    notch_freq = freq_to_pull # Frequency to be removed from signal (Hz)\n",
    "    quality_factor = quality_factor_q # Quality factor\n",
    "\n",
    "    # design a notch filter using signal.iirnotch\n",
    "    b_notch, a_notch = signal.iirnotch(notch_freq, quality_factor, samp_freq)\n",
    "\n",
    "    # compute magnitude response of the designed filter\n",
    "    freq, h = signal.freqz(b_notch, a_notch, fs=samp_freq)\n",
    "    # make the output signal\n",
    "    output_signal = signal.filtfilt(b_notch, a_notch, sample)\n",
    "    return output_signal\n"
   ]
  },
  {
   "cell_type": "code",
   "execution_count": 3,
   "id": "8495c36d",
   "metadata": {},
   "outputs": [
    {
     "name": "stdout",
     "output_type": "stream",
     "text": [
      "Reading file  ../not_pushed\\Test_lung_data\\2022-05-13_11-51-04\\002\\EMG_recording.Poly5\n",
      "\t Number of samples:  241904 \n",
      "\t Number of channels:  3 \n",
      "\t Sample rate: 2048 Hz\n",
      "\r",
      "Progress:  0.0 %\r",
      "\r",
      "Progress:  1.1 %\r",
      "\r",
      "Progress:  2.2 %\r",
      "\r",
      "Progress:  3.4 %\r",
      "\r",
      "Progress:  4.5 %\r",
      "\r",
      "Progress:  5.6 %\r",
      "\r",
      "Progress:  6.7 %\r",
      "\r",
      "Progress:  7.9 %\r",
      "\r",
      "Progress:  9.0 %\r",
      "\r",
      "Progress:  10.1 %\r",
      "\r",
      "Progress:  11.2 %\r",
      "\r",
      "Progress:  12.4 %\r",
      "\r",
      "Progress:  13.5 %\r",
      "\r",
      "Progress:  14.6 %\r",
      "\r",
      "Progress:  15.7 %\r",
      "\r",
      "Progress:  16.9 %\r",
      "\r",
      "Progress:  18.0 %\r",
      "\r",
      "Progress:  19.1 %\r",
      "\r",
      "Progress:  20.2 %\r",
      "\r",
      "Progress:  21.3 %\r",
      "\r",
      "Progress:  22.5 %\r",
      "\r",
      "Progress:  23.6 %\r",
      "\r",
      "Progress:  24.7 %\r",
      "\r",
      "Progress:  25.8 %\r",
      "\r",
      "Progress:  27.0 %\r",
      "\r",
      "Progress:  28.1 %\r",
      "\r",
      "Progress:  29.2 %\r",
      "\r",
      "Progress:  30.3 %\r",
      "\r",
      "Progress:  31.5 %\r",
      "\r",
      "Progress:  32.6 %\r",
      "\r",
      "Progress:  33.7 %\r",
      "\r",
      "Progress:  34.8 %\r",
      "\r",
      "Progress:  36.0 %\r",
      "\r",
      "Progress:  37.1 %\r",
      "\r",
      "Progress:  38.2 %\r",
      "\r",
      "Progress:  39.3 %\r",
      "\r",
      "Progress:  40.4 %\r",
      "\r",
      "Progress:  41.6 %\r",
      "\r",
      "Progress:  42.7 %\r",
      "\r",
      "Progress:  43.8 %\r",
      "\r",
      "Progress:  44.9 %\r",
      "\r",
      "Progress:  46.1 %\r",
      "\r",
      "Progress:  47.2 %\r",
      "\r",
      "Progress:  48.3 %\r",
      "\r",
      "Progress:  49.4 %\r",
      "\r",
      "Progress:  50.6 %\r",
      "\r",
      "Progress:  51.7 %\r",
      "\r",
      "Progress:  52.8 %\r",
      "\r",
      "Progress:  53.9 %\r",
      "\r",
      "Progress:  55.1 %\r",
      "\r",
      "Progress:  56.2 %\r",
      "\r",
      "Progress:  57.3 %\r",
      "\r",
      "Progress:  58.4 %\r",
      "\r",
      "Progress:  59.6 %\r",
      "\r",
      "Progress:  60.7 %\r",
      "\r",
      "Progress:  61.8 %\r",
      "\r",
      "Progress:  62.9 %\r",
      "\r",
      "Progress:  64.0 %\r",
      "\r",
      "Progress:  65.2 %\r",
      "\r",
      "Progress:  66.3 %\r",
      "\r",
      "Progress:  67.4 %\r",
      "\r",
      "Progress:  68.5 %\r",
      "\r",
      "Progress:  69.7 %\r",
      "\r",
      "Progress:  70.8 %\r",
      "\r",
      "Progress:  71.9 %\r",
      "\r",
      "Progress:  73.0 %\r",
      "\r",
      "Progress:  74.2 %\r",
      "\r",
      "Progress:  75.3 %\r",
      "\r",
      "Progress:  76.4 %\r",
      "\r",
      "Progress:  77.5 %\r",
      "\r",
      "Progress:  78.7 %\r",
      "\r",
      "Progress:  79.8 %\r",
      "\r",
      "Progress:  80.9 %\r",
      "\r",
      "Progress:  82.0 %\r",
      "\r",
      "Progress:  83.1 %\r",
      "\r",
      "Progress:  84.3 %\r",
      "\r",
      "Progress:  85.4 %\r",
      "\r",
      "Progress:  86.5 %\r",
      "\r",
      "Progress:  87.6 %\r",
      "\r",
      "Progress:  88.8 %\r",
      "\r",
      "Progress:  89.9 %\r",
      "\r",
      "Progress:  91.0 %\r",
      "\r",
      "Progress:  92.1 %\r",
      "\r",
      "Progress:  93.3 %\r",
      "\r",
      "Progress:  94.4 %\r",
      "\r",
      "Progress:  95.5 %\r",
      "\r",
      "Progress:  96.6 %\r",
      "\r",
      "Progress:  97.8 %\r",
      "\r",
      "Progress:  98.9 %\r",
      "Done reading data.\n"
     ]
    }
   ],
   "source": [
    "file_chosen = os.path.join('../not_pushed','Test_lung_data','2022-05-13_11-51-04','002','EMG_recording'+'.Poly5')\n",
    "data_emg = Poly5Reader(file_chosen)"
   ]
  },
  {
   "cell_type": "code",
   "execution_count": 4,
   "id": "64fc07df",
   "metadata": {},
   "outputs": [],
   "source": [
    "filtered = notch_filter(data_emg.samples, 2048, 50, 30)"
   ]
  },
  {
   "cell_type": "code",
   "execution_count": 5,
   "id": "0fcf2730",
   "metadata": {},
   "outputs": [
    {
     "data": {
      "text/plain": [
       "array([[-9.12984397e+01, -8.82792626e+01, -9.05220074e+01, ...,\n",
       "         3.78769478e-02,  1.34282804e-02, -1.13322824e-02],\n",
       "       [ 0.00000000e+00,  0.00000000e+00,  0.00000000e+00, ...,\n",
       "         0.00000000e+00,  0.00000000e+00,  0.00000000e+00],\n",
       "       [ 0.00000000e+00,  0.00000000e+00,  0.00000000e+00, ...,\n",
       "         0.00000000e+00,  0.00000000e+00,  0.00000000e+00]])"
      ]
     },
     "execution_count": 5,
     "metadata": {},
     "output_type": "execute_result"
    }
   ],
   "source": [
    "filtered"
   ]
  },
  {
   "cell_type": "code",
   "execution_count": 6,
   "id": "5de373fc",
   "metadata": {},
   "outputs": [],
   "source": [
    "def bnotch_filter(sample, sample_frequ, freq_to_pull, quality_factor_q):\n",
    "    \"\"\"\n",
    "    This is a filter designed to take out a specific frequency. \n",
    "    In the EU in some data electrical cords can interfere at around 50 herts.\n",
    "    In some other locations the interference is at 60 Hertz. The specificities \n",
    "    of a local power grid may neccesitate notch filtering. \n",
    "    \n",
    "    :param sample: percentage variation tolerance to allow without cutting automatically\n",
    "    :type sample: :class:  int\n",
    "    :param sample_frequ: the frequency at which the sample was captured, often 2048\n",
    "    :type sample_frequ: :class:  int\n",
    "    :param freq_to_pull: the frequency you desire to remove from teh signal\n",
    "    :type freq_to_pull: :class:  int\n",
    "    :param quality_factor_q: how high the quality of the removal is\n",
    "    :type quality_factor_q: :class:  int\n",
    "\n",
    "    :return sample_cut: the filterered sample data\n",
    "    :rtype: :class: `~numpy.ndarray`\n",
    "\n",
    "    \"\"\"\n",
    "    # create notch filter\n",
    "    # design a notch filter using signal.iirnotch\n",
    "    b_notch, a_notch = signal.iirnotch(freq_to_pull, quality_factor_q, sample_frequ)\n",
    "    \n",
    "    # make the output signal\n",
    "    output_signal = signal.filtfilt(b_notch, a_notch, sample)\n",
    "    return output_signal"
   ]
  },
  {
   "cell_type": "code",
   "execution_count": 7,
   "id": "bdf2bcd9",
   "metadata": {},
   "outputs": [],
   "source": [
    "filteredb = bnotch_filter(data_emg.samples, 2048, 50, 30)"
   ]
  },
  {
   "cell_type": "code",
   "execution_count": 8,
   "id": "fcc8fcea",
   "metadata": {},
   "outputs": [
    {
     "data": {
      "text/plain": [
       "array([[-9.12984397e+01, -8.82792626e+01, -9.05220074e+01, ...,\n",
       "         3.78769478e-02,  1.34282804e-02, -1.13322824e-02],\n",
       "       [ 0.00000000e+00,  0.00000000e+00,  0.00000000e+00, ...,\n",
       "         0.00000000e+00,  0.00000000e+00,  0.00000000e+00],\n",
       "       [ 0.00000000e+00,  0.00000000e+00,  0.00000000e+00, ...,\n",
       "         0.00000000e+00,  0.00000000e+00,  0.00000000e+00]])"
      ]
     },
     "execution_count": 8,
     "metadata": {},
     "output_type": "execute_result"
    }
   ],
   "source": [
    "filteredb"
   ]
  },
  {
   "cell_type": "code",
   "execution_count": 9,
   "id": "3f1e3572",
   "metadata": {},
   "outputs": [
    {
     "data": {
      "application/vnd.jupyter.widget-view+json": {
       "model_id": "68149da1f9f6407e99e5c39e357eb241",
       "version_major": 2,
       "version_minor": 0
      },
      "image/png": "[encoded data removed]",
      "text/html": [
       "\n",
       "            <div style=\"display: inline-block;\">\n",
       "                <div class=\"jupyter-widgets widget-label\" style=\"text-align: center;\">\n",
       "                    Figure\n",
       "                </div>\n",
       "                <img src='data:image/png;base64,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' width=640.0/>\n",
       "            </div>\n",
       "        "
      ],
      "text/plain": [
       "Canvas(toolbar=Toolbar(toolitems=[('Home', 'Reset original view', 'home', 'home'), ('Back', 'Back to previous …"
      ]
     },
     "metadata": {},
     "output_type": "display_data"
    }
   ],
   "source": [
    "hf.show_my_power_spectrum(filtered, 2048, 400)"
   ]
  },
  {
   "cell_type": "code",
   "execution_count": null,
   "id": "d98afe68",
   "metadata": {},
   "outputs": [],
   "source": [
    "hf.show_my_power_spectrum(filteredb, 2048, 300)"
   ]
  },
  {
   "cell_type": "code",
   "execution_count": null,
   "id": "c4aea7c7",
   "metadata": {},
   "outputs": [],
   "source": [
    "def show_my_power_spectrum(sample, sample_rate):\n",
    "    N = len(sample)\n",
    "    # for our emgs samplerate is usually 2048\n",
    "    yf = fft((sample))\n",
    "    xf = fftfreq(N, 1 / sample_rate)\n",
    "\n",
    "    plt.plot(xf, np.abs(yf))\n",
    "    plt.xlim(0,)\n",
    "    plt.show()"
   ]
  },
  {
   "cell_type": "code",
   "execution_count": null,
   "id": "767ef1d8",
   "metadata": {},
   "outputs": [],
   "source": [
    "show_my_power_spectrum(data_emg.samples[0], 2048)"
   ]
  },
  {
   "cell_type": "code",
   "execution_count": null,
   "id": "e2bd99d5",
   "metadata": {},
   "outputs": [],
   "source": [
    "sampling_rate = 2048\n",
    "data = data_emg.samples[0]\n",
    "\n",
    "time_of_sample = len(data)/sampling_rate\n",
    "\n",
    "time = np.arange(0, time_of_sample, 1/sampling_rate)\n",
    "\n",
    "\n",
    "\n",
    "fourier_transform = np.fft.rfft(data)\n",
    "\n",
    "abs_fourier_transform = np.abs(fourier_transform)\n",
    "\n",
    "power_spectrum = np.square(abs_fourier_transform)\n",
    "\n",
    "frequency = np.linspace(0, sampling_rate/2, len(power_spectrum))\n",
    "\n",
    "plt.plot(frequency, power_spectrum)\n",
    "plt.show()"
   ]
  },
  {
   "cell_type": "code",
   "execution_count": null,
   "id": "99b174e3",
   "metadata": {},
   "outputs": [],
   "source": [
    "from scipy.fft import rfft, rfftfreq, irfft\n",
    "def show_plot(x, y, title = \"\", xlabel = \"\", ylabel = \"\", show = True):\n",
    "    plt.title(title)\n",
    "    plt.xlabel(xlabel)\n",
    "    plt.ylabel(ylabel)\n",
    "    if show:\n",
    "        plt.plot(x, y)\n",
    "        plt.show()\n",
    "sample_FT = rfft(data)\n",
    "freq = rfftfreq(int(time_of_sample * sampling_rate), 1 / sampling_rate)\n",
    "show_plot(freq, np.abs(sample_FT), \"Fourier Transform of Data\", \"Frequency (Hz)\", \"Magnitude\")"
   ]
  },
  {
   "cell_type": "code",
   "execution_count": null,
   "id": "34936908",
   "metadata": {},
   "outputs": [],
   "source": []
  }
 ],
 "metadata": {
  "kernelspec": {
   "display_name": "Python 3 (ipykernel)",
   "language": "python",
   "name": "python3"
  },
  "language_info": {
   "codemirror_mode": {
    "name": "ipython",
    "version": 3
   },
   "file_extension": ".py",
   "mimetype": "text/x-python",
   "name": "python",
   "nbconvert_exporter": "python",
   "pygments_lexer": "ipython3",
   "version": "3.8.6"
  }
 },
 "nbformat": 4,
 "nbformat_minor": 5
}
