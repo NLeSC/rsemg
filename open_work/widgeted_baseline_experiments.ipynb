{
 "cells": [
  {
   "cell_type": "code",
   "execution_count": 1,
   "id": "21eb7702",
   "metadata": {},
   "outputs": [],
   "source": [
    "%matplotlib widget\n",
    "import ipywidgets as widgets\n",
    "\n",
    "import matplotlib.pyplot as plt\n",
    "import numpy as np\n",
    "import sys\n",
    "import os\n",
    "import glob\n",
    "import numpy as np\n",
    "import pandas as pd\n",
    "import matplotlib.pyplot as plt\n",
    "# IMPORT Ole's fixed TMSiSDK python interface\n",
    "sys.path.insert(0,'C:/Projects/tmsi-python-interface')\n",
    "from TMSiSDK.file_readers import Poly5Reader\n",
    "import collections\n",
    "import math\n",
    "from scipy.signal import find_peaks\n",
    "import helper_functions as hf"
   ]
  },
  {
   "cell_type": "code",
   "execution_count": 38,
   "id": "54b9e57e",
   "metadata": {},
   "outputs": [],
   "source": [
    "\n",
    "\n",
    "\n",
    "def smooth_for_baseline(single_filtered_array, threshold=10, start=None, end=None, smooth=100):\n",
    "    \"\"\"\n",
    "    This is an adaptive smoothing that overvalues closer numbers.\n",
    "    \"\"\"\n",
    "    \n",
    "    array = single_filtered_array[start:end]\n",
    "    #overlay = np.zeros(len(array)).astype('int8')\n",
    "    dists = np.zeros(len(array))\n",
    "    print(len(array), array.max(), array.min())\n",
    "    wmax, wmin = 0, 0\n",
    "    nwmax, nwmin = 0, 0\n",
    "    count, filler = 0, False\n",
    "    tail = (smooth - 1) / smooth\n",
    "    switched = 0\n",
    "\n",
    "    for i, elt in enumerate(array[1:]):\n",
    "        if elt > 0:\n",
    "            nwmax = wmax * tail + elt / smooth\n",
    "        else:\n",
    "            nwmin = wmin * tail + elt / smooth\n",
    "        dist = nwmax - nwmin\n",
    "        odist = wmax - wmin\n",
    "        if (i > smooth) and (i - switched > smooth):\n",
    "            vodist = dists[i - smooth]\n",
    "            if (vodist / dist > threshold) or (dist / vodist > threshold):\n",
    "                filler = not filler\n",
    "                count += 1\n",
    "                switched = i\n",
    "        #overlay[i] = filler\n",
    "        dists[i] = dist\n",
    "        wmax, wmin = nwmax, nwmin\n",
    "    return array, dists\n"
   ]
  },
  {
   "cell_type": "code",
   "execution_count": 3,
   "id": "97ce3eed",
   "metadata": {},
   "outputs": [],
   "source": [
    "root_emg_directory = 'C:/Projects/emg_data/TOPSPIN anonymous data/TOPSPIN anonymous data/'"
   ]
  },
  {
   "cell_type": "code",
   "execution_count": 4,
   "id": "b0326a85",
   "metadata": {},
   "outputs": [],
   "source": [
    "emg_pattern = os.path.join(root_emg_directory, '**/*.Poly5')\n",
    "emg_and_draeger_files = glob.glob(emg_pattern, recursive=True)\n",
    "\n",
    "emg_files = []\n",
    "draeger_files = []\n",
    "\n",
    "for file in emg_and_draeger_files:\n",
    "    if 'Draeger' in file:\n",
    "        draeger_files.append(file)\n",
    "    else:\n",
    "        emg_files.append(file)\n",
    "\n",
    "# # print an example from the list\n",
    "# print(emg_files[1],draeger_files[1])"
   ]
  },
  {
   "cell_type": "code",
   "execution_count": 5,
   "id": "84810286",
   "metadata": {},
   "outputs": [
    {
     "data": {
      "application/vnd.jupyter.widget-view+json": {
       "model_id": "b16b87782a6748889e56c320cbaa7377",
       "version_major": 2,
       "version_minor": 0
      },
      "text/plain": [
       "Dropdown(description='Picked File:', options=('0', '1', '2', '3', '4', '5', '6', '7', '8', '9', '10', '11', '1…"
      ]
     },
     "metadata": {},
     "output_type": "display_data"
    }
   ],
   "source": [
    "list_of_numbers_strung = []\n",
    "for i in range(len(emg_files)):\n",
    "    list_of_numbers_strung.append(str(i))\n",
    "\n",
    "\n",
    "btn = widgets.Dropdown(\n",
    "    options=list_of_numbers_strung,\n",
    "    value='0',\n",
    "    description='Picked File:',\n",
    "    disabled=False,\n",
    ")\n",
    "display(btn)"
   ]
  },
  {
   "cell_type": "code",
   "execution_count": 42,
   "id": "f8652c7a",
   "metadata": {},
   "outputs": [
    {
     "name": "stdout",
     "output_type": "stream",
     "text": [
      "C:/Projects/emg_data/TOPSPIN anonymous data/TOPSPIN anonymous data\\M002\\009\\EMG_recording.Poly5\n"
     ]
    }
   ],
   "source": [
    "number_chosen = int(btn.value)\n",
    "file_chosen = emg_files[number_chosen] \n",
    "print(file_chosen)"
   ]
  },
  {
   "cell_type": "code",
   "execution_count": 43,
   "id": "79f4f541",
   "metadata": {},
   "outputs": [
    {
     "name": "stdout",
     "output_type": "stream",
     "text": [
      "Reading file  C:/Projects/emg_data/TOPSPIN anonymous data/TOPSPIN anonymous data\\M002\\009\\EMG_recording.Poly5\n",
      "\t Number of samples:  568912 \n",
      "\t Number of channels:  3 \n",
      "\t Sample rate: 2048 Hz\n",
      "\r",
      "Progress:  0.0 %\r",
      "\r",
      "Progress:  0.5 %\r",
      "\r",
      "Progress:  1.0 %\r",
      "\r",
      "Progress:  1.4 %\r",
      "\r",
      "Progress:  1.9 %\r",
      "\r",
      "Progress:  2.4 %\r",
      "\r",
      "Progress:  2.9 %\r",
      "\r",
      "Progress:  3.3 %\r",
      "\r",
      "Progress:  3.8 %\r",
      "\r",
      "Progress:  4.3 %\r",
      "\r",
      "Progress:  4.8 %\r",
      "\r",
      "Progress:  5.3 %\r",
      "\r",
      "Progress:  5.7 %\r",
      "\r",
      "Progress:  6.2 %\r",
      "\r",
      "Progress:  6.7 %\r",
      "\r",
      "Progress:  7.2 %\r",
      "\r",
      "Progress:  7.7 %\r",
      "\r",
      "Progress:  8.1 %\r",
      "\r",
      "Progress:  8.6 %\r",
      "\r",
      "Progress:  9.1 %\r",
      "\r",
      "Progress:  9.6 %\r",
      "\r",
      "Progress:  10.0 %\r",
      "\r",
      "Progress:  10.5 %\r",
      "\r",
      "Progress:  11.0 %\r",
      "\r",
      "Progress:  11.5 %\r",
      "\r",
      "Progress:  12.0 %\r",
      "\r",
      "Progress:  12.4 %\r",
      "\r",
      "Progress:  12.9 %\r",
      "\r",
      "Progress:  13.4 %\r",
      "\r",
      "Progress:  13.9 %\r",
      "\r",
      "Progress:  14.4 %\r",
      "\r",
      "Progress:  14.8 %\r",
      "\r",
      "Progress:  15.3 %\r",
      "\r",
      "Progress:  15.8 %\r",
      "\r",
      "Progress:  16.3 %\r",
      "\r",
      "Progress:  16.7 %\r",
      "\r",
      "Progress:  17.2 %\r",
      "\r",
      "Progress:  17.7 %\r",
      "\r",
      "Progress:  18.2 %\r",
      "\r",
      "Progress:  18.7 %\r",
      "\r",
      "Progress:  19.1 %\r",
      "\r",
      "Progress:  19.6 %\r",
      "\r",
      "Progress:  20.1 %\r",
      "\r",
      "Progress:  20.6 %\r",
      "\r",
      "Progress:  21.1 %\r",
      "\r",
      "Progress:  21.5 %\r",
      "\r",
      "Progress:  22.0 %\r",
      "\r",
      "Progress:  22.5 %\r",
      "\r",
      "Progress:  23.0 %\r",
      "\r",
      "Progress:  23.4 %\r",
      "\r",
      "Progress:  23.9 %\r",
      "\r",
      "Progress:  24.4 %\r",
      "\r",
      "Progress:  24.9 %\r",
      "\r",
      "Progress:  25.4 %\r",
      "\r",
      "Progress:  25.8 %\r",
      "\r",
      "Progress:  26.3 %\r",
      "\r",
      "Progress:  26.8 %\r",
      "\r",
      "Progress:  27.3 %\r",
      "\r",
      "Progress:  27.8 %\r",
      "\r",
      "Progress:  28.2 %\r",
      "\r",
      "Progress:  28.7 %\r",
      "\r",
      "Progress:  29.2 %\r",
      "\r",
      "Progress:  29.7 %\r",
      "\r",
      "Progress:  30.1 %\r",
      "\r",
      "Progress:  30.6 %\r",
      "\r",
      "Progress:  31.1 %\r",
      "\r",
      "Progress:  31.6 %\r",
      "\r",
      "Progress:  32.1 %\r",
      "\r",
      "Progress:  32.5 %\r",
      "\r",
      "Progress:  33.0 %\r",
      "\r",
      "Progress:  33.5 %\r",
      "\r",
      "Progress:  34.0 %\r",
      "\r",
      "Progress:  34.4 %\r",
      "\r",
      "Progress:  34.9 %\r",
      "\r",
      "Progress:  35.4 %\r",
      "\r",
      "Progress:  35.9 %\r",
      "\r",
      "Progress:  36.4 %\r",
      "\r",
      "Progress:  36.8 %\r",
      "\r",
      "Progress:  37.3 %\r",
      "\r",
      "Progress:  37.8 %\r",
      "\r",
      "Progress:  38.3 %\r",
      "\r",
      "Progress:  38.8 %\r",
      "\r",
      "Progress:  39.2 %\r",
      "\r",
      "Progress:  39.7 %\r",
      "\r",
      "Progress:  40.2 %\r",
      "\r",
      "Progress:  40.7 %\r",
      "\r",
      "Progress:  41.1 %\r",
      "\r",
      "Progress:  41.6 %\r",
      "\r",
      "Progress:  42.1 %\r",
      "\r",
      "Progress:  42.6 %\r",
      "\r",
      "Progress:  43.1 %\r",
      "\r",
      "Progress:  43.5 %\r",
      "\r",
      "Progress:  44.0 %\r",
      "\r",
      "Progress:  44.5 %\r",
      "\r",
      "Progress:  45.0 %\r",
      "\r",
      "Progress:  45.5 %\r",
      "\r",
      "Progress:  45.9 %\r",
      "\r",
      "Progress:  46.4 %\r",
      "\r",
      "Progress:  46.9 %\r",
      "\r",
      "Progress:  47.4 %\r",
      "\r",
      "Progress:  47.8 %\r",
      "\r",
      "Progress:  48.3 %\r",
      "\r",
      "Progress:  48.8 %\r",
      "\r",
      "Progress:  49.3 %\r",
      "\r",
      "Progress:  49.8 %\r",
      "\r",
      "Progress:  50.2 %\r",
      "\r",
      "Progress:  50.7 %\r",
      "\r",
      "Progress:  51.2 %\r",
      "\r",
      "Progress:  51.7 %\r",
      "\r",
      "Progress:  52.2 %\r",
      "\r",
      "Progress:  52.6 %\r",
      "\r",
      "Progress:  53.1 %\r",
      "\r",
      "Progress:  53.6 %\r",
      "\r",
      "Progress:  54.1 %\r",
      "\r",
      "Progress:  54.5 %\r",
      "\r",
      "Progress:  55.0 %\r",
      "\r",
      "Progress:  55.5 %\r",
      "\r",
      "Progress:  56.0 %\r",
      "\r",
      "Progress:  56.5 %\r",
      "\r",
      "Progress:  56.9 %\r",
      "\r",
      "Progress:  57.4 %\r",
      "\r",
      "Progress:  57.9 %\r",
      "\r",
      "Progress:  58.4 %\r",
      "\r",
      "Progress:  58.9 %\r",
      "\r",
      "Progress:  59.3 %\r",
      "\r",
      "Progress:  59.8 %\r",
      "\r",
      "Progress:  60.3 %\r",
      "\r",
      "Progress:  60.8 %\r",
      "\r",
      "Progress:  61.2 %\r",
      "\r",
      "Progress:  61.7 %\r",
      "\r",
      "Progress:  62.2 %\r",
      "\r",
      "Progress:  62.7 %\r",
      "\r",
      "Progress:  63.2 %\r",
      "\r",
      "Progress:  63.6 %\r",
      "\r",
      "Progress:  64.1 %\r",
      "\r",
      "Progress:  64.6 %\r",
      "\r",
      "Progress:  65.1 %\r",
      "\r",
      "Progress:  65.6 %\r",
      "\r",
      "Progress:  66.0 %\r",
      "\r",
      "Progress:  66.5 %\r",
      "\r",
      "Progress:  67.0 %\r",
      "\r",
      "Progress:  67.5 %\r",
      "\r",
      "Progress:  67.9 %\r",
      "\r",
      "Progress:  68.4 %\r",
      "\r",
      "Progress:  68.9 %\r",
      "\r",
      "Progress:  69.4 %\r",
      "\r",
      "Progress:  69.9 %\r",
      "\r",
      "Progress:  70.3 %\r",
      "\r",
      "Progress:  70.8 %\r",
      "\r",
      "Progress:  71.3 %\r",
      "\r",
      "Progress:  71.8 %\r",
      "\r",
      "Progress:  72.2 %\r",
      "\r",
      "Progress:  72.7 %\r",
      "\r",
      "Progress:  73.2 %\r",
      "\r",
      "Progress:  73.7 %\r",
      "\r",
      "Progress:  74.2 %\r",
      "\r",
      "Progress:  74.6 %\r",
      "\r",
      "Progress:  75.1 %\r",
      "\r",
      "Progress:  75.6 %\r",
      "\r",
      "Progress:  76.1 %\r",
      "\r",
      "Progress:  76.6 %\r",
      "\r",
      "Progress:  77.0 %\r",
      "\r",
      "Progress:  77.5 %\r",
      "\r",
      "Progress:  78.0 %\r",
      "\r",
      "Progress:  78.5 %\r",
      "\r",
      "Progress:  78.9 %\r",
      "\r",
      "Progress:  79.4 %\r",
      "\r",
      "Progress:  79.9 %\r",
      "\r",
      "Progress:  80.4 %\r",
      "\r",
      "Progress:  80.9 %\r",
      "\r",
      "Progress:  81.3 %\r",
      "\r",
      "Progress:  81.8 %\r",
      "\r",
      "Progress:  82.3 %\r",
      "\r",
      "Progress:  82.8 %\r",
      "\r",
      "Progress:  83.3 %\r",
      "\r",
      "Progress:  83.7 %\r",
      "\r",
      "Progress:  84.2 %\r",
      "\r",
      "Progress:  84.7 %\r",
      "\r",
      "Progress:  85.2 %\r",
      "\r",
      "Progress:  85.6 %\r",
      "\r",
      "Progress:  86.1 %\r",
      "\r",
      "Progress:  86.6 %\r",
      "\r",
      "Progress:  87.1 %\r",
      "\r",
      "Progress:  87.6 %\r",
      "\r",
      "Progress:  88.0 %\r",
      "\r",
      "Progress:  88.5 %\r",
      "\r",
      "Progress:  89.0 %\r",
      "\r",
      "Progress:  89.5 %\r",
      "\r",
      "Progress:  90.0 %\r",
      "\r",
      "Progress:  90.4 %\r",
      "\r",
      "Progress:  90.9 %\r",
      "\r",
      "Progress:  91.4 %\r",
      "\r",
      "Progress:  91.9 %\r",
      "\r",
      "Progress:  92.3 %\r",
      "\r",
      "Progress:  92.8 %\r",
      "\r",
      "Progress:  93.3 %\r",
      "\r",
      "Progress:  93.8 %\r",
      "\r",
      "Progress:  94.3 %\r",
      "\r",
      "Progress:  94.7 %\r",
      "\r",
      "Progress:  95.2 %\r",
      "\r",
      "Progress:  95.7 %\r",
      "\r",
      "Progress:  96.2 %\r",
      "\r",
      "Progress:  96.7 %\r",
      "\r",
      "Progress:  97.1 %\r",
      "\r",
      "Progress:  97.6 %\r",
      "\r",
      "Progress:  98.1 %\r",
      "\r",
      "Progress:  98.6 %\r",
      "\r",
      "Progress:  99.0 %\r",
      "\r",
      "Progress:  99.5 %\r",
      "Done reading data.\n"
     ]
    },
    {
     "data": {
      "text/plain": [
       "[<matplotlib.lines.Line2D at 0x22992db76a0>]"
      ]
     },
     "execution_count": 43,
     "metadata": {},
     "output_type": "execute_result"
    },
    {
     "data": {
      "image/png": "[encoded data removed]",
      "text/plain": [
       "<Figure size 432x288 with 3 Axes>"
      ]
     },
     "metadata": {
      "needs_background": "light"
     },
     "output_type": "display_data"
    }
   ],
   "source": [
    "# get the poly5 reading\n",
    "data_emg = Poly5Reader(file_chosen)\n",
    "data_samples= data_emg.samples\n",
    "%matplotlib inline\n",
    "# set up plot\n",
    "x = data_samples\n",
    "fig, (ax_1,ax_2,ax_3) = plt.subplots(nrows = 3, figsize=(6, 4))\n",
    "ax_1.grid(True)\n",
    "ax_1.plot(x[0])\n",
    "ax_1.set(title='leads')\n",
    "ax_2.plot(x[1])\n",
    "ax_3.plot(x[2])\n"
   ]
  },
  {
   "cell_type": "code",
   "execution_count": 44,
   "id": "86716864",
   "metadata": {},
   "outputs": [],
   "source": [
    "def working_pipeline_exp2_abs(our_chosen_file): \n",
    "    cut_file_data = hf.bad_end_cutter_for_samples(our_chosen_file, percent_to_cut=3, tolerance_percent=5)\n",
    "    bd_filtered_file_data = hf.emg_bandpass_butter_sample(cut_file_data, 5, 450, 2048, output='sos')\n",
    "    # step 3 end-cutting again to get rid of filtering artifacts\n",
    "    re_cut_file_data = hf.bad_end_cutter_for_samples(bd_filtered_file_data, percent_to_cut=3, tolerance_percent=5)\n",
    "    # skip step4 and do step 5 ICA\n",
    "    components = hf.compute_ICA_two_comp(re_cut_file_data)\n",
    "    #     the secret hidden step!\n",
    "    emg= hf.pick_more_peaks_array(components)\n",
    "    # now process it in final steps\n",
    "    abs_values = abs(emg)\n",
    "    final_envelope_d = hf.emg_highpass_butter(abs_values, 150, 2048)\n",
    "    #final_envelope_a = helper_functions.naive_rolling_rms(final_envelope_d, 300)\n",
    "    #plt.plot(final_envelope_a[0:5000])\n",
    "    \n",
    "    abs_final_values = abs(final_envelope_d)   \n",
    "    return abs_final_values"
   ]
  },
  {
   "cell_type": "code",
   "execution_count": 45,
   "id": "f2cc23fa",
   "metadata": {},
   "outputs": [
    {
     "data": {
      "text/plain": [
       "[<matplotlib.lines.Line2D at 0x2298cc9a290>]"
      ]
     },
     "execution_count": 45,
     "metadata": {},
     "output_type": "execute_result"
    },
    {
     "data": {
      "image/png": "[encoded data removed]",
      "text/plain": [
       "<Figure size 432x288 with 1 Axes>"
      ]
     },
     "metadata": {
      "needs_background": "light"
     },
     "output_type": "display_data"
    }
   ],
   "source": [
    "x = data_samples\n",
    "our_array = working_pipeline_exp2_abs(x)\n",
    "plt.plot(our_array)"
   ]
  },
  {
   "cell_type": "code",
   "execution_count": 46,
   "id": "a91dc3fe",
   "metadata": {},
   "outputs": [
    {
     "name": "stdout",
     "output_type": "stream",
     "text": [
      "536848 0.006698294217152536 4.959492560553669e-12\n"
     ]
    }
   ],
   "source": [
    "array , dists= smooth_for_baseline(our_array, threshold=10, start=None, end=None, smooth=100)"
   ]
  },
  {
   "cell_type": "code",
   "execution_count": 47,
   "id": "24f07285",
   "metadata": {},
   "outputs": [
    {
     "data": {
      "text/plain": [
       "[<matplotlib.lines.Line2D at 0x22992e2a3b0>]"
      ]
     },
     "execution_count": 47,
     "metadata": {},
     "output_type": "execute_result"
    },
    {
     "data": {
      "image/png": "[encoded data removed]",
      "text/plain": [
       "<Figure size 432x288 with 1 Axes>"
      ]
     },
     "metadata": {
      "needs_background": "light"
     },
     "output_type": "display_data"
    }
   ],
   "source": [
    "\n",
    "\n",
    "plt.plot(array[:40000])\n",
    "plt.plot(dists[:40000])\n",
    "#plt.plot(overlay[:40000])"
   ]
  },
  {
   "cell_type": "code",
   "execution_count": 48,
   "id": "61b7ecc3",
   "metadata": {},
   "outputs": [
    {
     "data": {
      "text/plain": [
       "[<matplotlib.lines.Line2D at 0x22992e77b20>]"
      ]
     },
     "execution_count": 48,
     "metadata": {},
     "output_type": "execute_result"
    },
    {
     "data": {
      "image/png": "[encoded data removed]",
      "text/plain": [
       "<Figure size 432x288 with 1 Axes>"
      ]
     },
     "metadata": {
      "needs_background": "light"
     },
     "output_type": "display_data"
    }
   ],
   "source": [
    "plt.plot(array[3000:4000])\n",
    "plt.plot(dists[3000:4000])"
   ]
  },
  {
   "cell_type": "markdown",
   "id": "37a6928a",
   "metadata": {},
   "source": [
    "Now plot the troughts on the array- which  will be an adaptive baseline"
   ]
  },
  {
   "cell_type": "code",
   "execution_count": 51,
   "id": "e154ffa5",
   "metadata": {},
   "outputs": [
    {
     "data": {
      "text/plain": [
       "[<matplotlib.lines.Line2D at 0x22999239960>]"
      ]
     },
     "execution_count": 51,
     "metadata": {},
     "output_type": "execute_result"
    },
    {
     "data": {
      "image/png": "[encoded data removed]",
      "text/plain": [
       "<Figure size 432x288 with 1 Axes>"
      ]
     },
     "metadata": {
      "needs_background": "light"
     },
     "output_type": "display_data"
    }
   ],
   "source": [
    "antipeaks1, anti_1 = find_peaks((dists*(-1)),distance = 17000) # 17,000 seems to capture every certain number of breaths the nadir- great\n",
    "\n",
    "plt.plot(dists)\n",
    "#plt.plot(peaks0, x[peaks0],\"x\")\n",
    "plt.plot(antipeaks1, dists[antipeaks1],\"x\", color= 'red')\n",
    "#plt.show()"
   ]
  },
  {
   "cell_type": "markdown",
   "id": "a403f704",
   "metadata": {},
   "source": [
    "So now we have an array of baseline values (dists[antipeaks1]). What do we mean when we claim something is more than the baseline?"
   ]
  },
  {
   "cell_type": "markdown",
   "id": "dfd4df06",
   "metadata": {},
   "source": [
    "This must be defined mathematically by the you guys, and then can be programmed."
   ]
  },
  {
   "cell_type": "code",
   "execution_count": null,
   "id": "6f81e47c",
   "metadata": {},
   "outputs": [],
   "source": []
  }
 ],
 "metadata": {
  "kernelspec": {
   "display_name": "Python 3 (ipykernel)",
   "language": "python",
   "name": "python3"
  },
  "language_info": {
   "codemirror_mode": {
    "name": "ipython",
    "version": 3
   },
   "file_extension": ".py",
   "mimetype": "text/x-python",
   "name": "python",
   "nbconvert_exporter": "python",
   "pygments_lexer": "ipython3",
   "version": "3.8.6"
  }
 },
 "nbformat": 4,
 "nbformat_minor": 5
}
